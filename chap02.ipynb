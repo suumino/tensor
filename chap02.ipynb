{
  "nbformat": 4,
  "nbformat_minor": 0,
  "metadata": {
    "colab": {
      "name": "Colaboratory에 오신 것을 환영합니다",
      "provenance": [],
      "collapsed_sections": [],
      "include_colab_link": true
    },
    "kernelspec": {
      "display_name": "Python 3",
      "name": "python3"
    }
  },
  "cells": [
    {
      "cell_type": "markdown",
      "metadata": {
        "id": "view-in-github",
        "colab_type": "text"
      },
      "source": [
        "<a href=\"https://colab.research.google.com/github/suumino/tensor/blob/main/chap02.ipynb\" target=\"_parent\"><img src=\"https://colab.research.google.com/assets/colab-badge.svg\" alt=\"Open In Colab\"/></a>"
      ]
    },
    {
      "cell_type": "code",
      "metadata": {
        "id": "j5h4fdZ2IWWD",
        "outputId": "edc42b3f-55aa-494c-c4c4-239dfdaa7bf2",
        "colab": {
          "base_uri": "https://localhost:8080/"
        }
      },
      "source": [
        "!pip install pandas\n",
        "!pip install matplotlib\n",
        "!pip install seaborn\n",
        "!pip install scikit-learn"
      ],
      "execution_count": 1,
      "outputs": [
        {
          "output_type": "stream",
          "text": [
            "Requirement already satisfied: pandas in /usr/local/lib/python3.7/dist-packages (1.1.5)\n",
            "Requirement already satisfied: python-dateutil>=2.7.3 in /usr/local/lib/python3.7/dist-packages (from pandas) (2.8.1)\n",
            "Requirement already satisfied: pytz>=2017.2 in /usr/local/lib/python3.7/dist-packages (from pandas) (2018.9)\n",
            "Requirement already satisfied: numpy>=1.15.4 in /usr/local/lib/python3.7/dist-packages (from pandas) (1.19.5)\n",
            "Requirement already satisfied: six>=1.5 in /usr/local/lib/python3.7/dist-packages (from python-dateutil>=2.7.3->pandas) (1.15.0)\n",
            "Requirement already satisfied: matplotlib in /usr/local/lib/python3.7/dist-packages (3.2.2)\n",
            "Requirement already satisfied: python-dateutil>=2.1 in /usr/local/lib/python3.7/dist-packages (from matplotlib) (2.8.1)\n",
            "Requirement already satisfied: numpy>=1.11 in /usr/local/lib/python3.7/dist-packages (from matplotlib) (1.19.5)\n",
            "Requirement already satisfied: kiwisolver>=1.0.1 in /usr/local/lib/python3.7/dist-packages (from matplotlib) (1.3.1)\n",
            "Requirement already satisfied: pyparsing!=2.0.4,!=2.1.2,!=2.1.6,>=2.0.1 in /usr/local/lib/python3.7/dist-packages (from matplotlib) (2.4.7)\n",
            "Requirement already satisfied: cycler>=0.10 in /usr/local/lib/python3.7/dist-packages (from matplotlib) (0.10.0)\n",
            "Requirement already satisfied: six>=1.5 in /usr/local/lib/python3.7/dist-packages (from python-dateutil>=2.1->matplotlib) (1.15.0)\n",
            "Requirement already satisfied: seaborn in /usr/local/lib/python3.7/dist-packages (0.11.1)\n",
            "Requirement already satisfied: numpy>=1.15 in /usr/local/lib/python3.7/dist-packages (from seaborn) (1.19.5)\n",
            "Requirement already satisfied: pandas>=0.23 in /usr/local/lib/python3.7/dist-packages (from seaborn) (1.1.5)\n",
            "Requirement already satisfied: matplotlib>=2.2 in /usr/local/lib/python3.7/dist-packages (from seaborn) (3.2.2)\n",
            "Requirement already satisfied: scipy>=1.0 in /usr/local/lib/python3.7/dist-packages (from seaborn) (1.4.1)\n",
            "Requirement already satisfied: python-dateutil>=2.7.3 in /usr/local/lib/python3.7/dist-packages (from pandas>=0.23->seaborn) (2.8.1)\n",
            "Requirement already satisfied: pytz>=2017.2 in /usr/local/lib/python3.7/dist-packages (from pandas>=0.23->seaborn) (2018.9)\n",
            "Requirement already satisfied: kiwisolver>=1.0.1 in /usr/local/lib/python3.7/dist-packages (from matplotlib>=2.2->seaborn) (1.3.1)\n",
            "Requirement already satisfied: cycler>=0.10 in /usr/local/lib/python3.7/dist-packages (from matplotlib>=2.2->seaborn) (0.10.0)\n",
            "Requirement already satisfied: pyparsing!=2.0.4,!=2.1.2,!=2.1.6,>=2.0.1 in /usr/local/lib/python3.7/dist-packages (from matplotlib>=2.2->seaborn) (2.4.7)\n",
            "Requirement already satisfied: six>=1.5 in /usr/local/lib/python3.7/dist-packages (from python-dateutil>=2.7.3->pandas>=0.23->seaborn) (1.15.0)\n",
            "Requirement already satisfied: scikit-learn in /usr/local/lib/python3.7/dist-packages (0.22.2.post1)\n",
            "Requirement already satisfied: joblib>=0.11 in /usr/local/lib/python3.7/dist-packages (from scikit-learn) (1.0.1)\n",
            "Requirement already satisfied: numpy>=1.11.0 in /usr/local/lib/python3.7/dist-packages (from scikit-learn) (1.19.5)\n",
            "Requirement already satisfied: scipy>=0.17.0 in /usr/local/lib/python3.7/dist-packages (from scikit-learn) (1.4.1)\n"
          ],
          "name": "stdout"
        }
      ]
    },
    {
      "cell_type": "code",
      "metadata": {
        "id": "UjqdvwBHI6nQ",
        "outputId": "5c6dcd18-c7a2-448a-a4b8-2457c7ff57ae",
        "colab": {
          "base_uri": "https://localhost:8080/"
        }
      },
      "source": [
        "!pip install --upgrade pandas --use-feature=2020-resolver\n",
        "!pip install --upgrade matplotlib --use-feature=2020-resolver\n",
        "!pip install --upgrade seaborn --use-feature=2020-resolver\n",
        "!pip install --upgrade scikit-learn --use-feature=2020-resolver"
      ],
      "execution_count": 4,
      "outputs": [
        {
          "output_type": "stream",
          "text": [
            "\n",
            "Usage:   \n",
            "  pip3 install [options] <requirement specifier> [package-index-options] ...\n",
            "  pip3 install [options] -r <requirements file> [package-index-options] ...\n",
            "  pip3 install [options] [-e] <vcs project url> ...\n",
            "  pip3 install [options] [-e] <local project path> ...\n",
            "  pip3 install [options] <archive url/path> ...\n",
            "\n",
            "no such option: --use-feature\n",
            "\n",
            "Usage:   \n",
            "  pip3 install [options] <requirement specifier> [package-index-options] ...\n",
            "  pip3 install [options] -r <requirements file> [package-index-options] ...\n",
            "  pip3 install [options] [-e] <vcs project url> ...\n",
            "  pip3 install [options] [-e] <local project path> ...\n",
            "  pip3 install [options] <archive url/path> ...\n",
            "\n",
            "no such option: --use-feature\n",
            "\n",
            "Usage:   \n",
            "  pip3 install [options] <requirement specifier> [package-index-options] ...\n",
            "  pip3 install [options] -r <requirements file> [package-index-options] ...\n",
            "  pip3 install [options] [-e] <vcs project url> ...\n",
            "  pip3 install [options] [-e] <local project path> ...\n",
            "  pip3 install [options] <archive url/path> ...\n",
            "\n",
            "no such option: --use-feature\n",
            "\n",
            "Usage:   \n",
            "  pip3 install [options] <requirement specifier> [package-index-options] ...\n",
            "  pip3 install [options] -r <requirements file> [package-index-options] ...\n",
            "  pip3 install [options] [-e] <vcs project url> ...\n",
            "  pip3 install [options] [-e] <local project path> ...\n",
            "  pip3 install [options] <archive url/path> ...\n",
            "\n",
            "no such option: --use-feature\n"
          ],
          "name": "stdout"
        }
      ]
    },
    {
      "cell_type": "code",
      "metadata": {
        "id": "eZwrXD9ZIWRO"
      },
      "source": [
        "import pandas as pd\n",
        "import numpy as np\n",
        "import tensorflow as tf\n",
        "import matplotlib.pyplot as plt\n",
        "%matplotlib inline\n",
        "import seaborn as sns\n",
        "sns.set(style=\"darkgrid\")"
      ],
      "execution_count": 2,
      "outputs": []
    },
    {
      "cell_type": "code",
      "metadata": {
        "id": "phzV18u-IWOj",
        "outputId": "140c70e6-7d33-46c7-f7c5-ce3aca657e43",
        "colab": {
          "base_uri": "https://localhost:8080/"
        }
      },
      "source": [
        "print(tf.__version__)"
      ],
      "execution_count": 3,
      "outputs": [
        {
          "output_type": "stream",
          "text": [
            "2.5.0\n"
          ],
          "name": "stdout"
        }
      ]
    },
    {
      "cell_type": "code",
      "metadata": {
        "id": "UsY08KiHI4Jx"
      },
      "source": [
        "cols = ['price', 'maint', 'doors', 'persons', 'lug_capacity', 'safety', 'output']\n",
        "cars = pd.read_csv('car_evaluation.csv', names=cols, header=None)"
      ],
      "execution_count": 5,
      "outputs": []
    },
    {
      "cell_type": "code",
      "metadata": {
        "id": "odnuWKgEI5_V",
        "outputId": "c34a0cbb-9e1b-4baf-d149-847a001f11c4",
        "colab": {
          "base_uri": "https://localhost:8080/",
          "height": 204
        }
      },
      "source": [
        "cars.head()"
      ],
      "execution_count": 6,
      "outputs": [
        {
          "output_type": "execute_result",
          "data": {
            "text/html": [
              "<div>\n",
              "<style scoped>\n",
              "    .dataframe tbody tr th:only-of-type {\n",
              "        vertical-align: middle;\n",
              "    }\n",
              "\n",
              "    .dataframe tbody tr th {\n",
              "        vertical-align: top;\n",
              "    }\n",
              "\n",
              "    .dataframe thead th {\n",
              "        text-align: right;\n",
              "    }\n",
              "</style>\n",
              "<table border=\"1\" class=\"dataframe\">\n",
              "  <thead>\n",
              "    <tr style=\"text-align: right;\">\n",
              "      <th></th>\n",
              "      <th>price</th>\n",
              "      <th>maint</th>\n",
              "      <th>doors</th>\n",
              "      <th>persons</th>\n",
              "      <th>lug_capacity</th>\n",
              "      <th>safety</th>\n",
              "      <th>output</th>\n",
              "    </tr>\n",
              "  </thead>\n",
              "  <tbody>\n",
              "    <tr>\n",
              "      <th>0</th>\n",
              "      <td>vhigh</td>\n",
              "      <td>vhigh</td>\n",
              "      <td>2</td>\n",
              "      <td>2</td>\n",
              "      <td>small</td>\n",
              "      <td>low</td>\n",
              "      <td>unacc</td>\n",
              "    </tr>\n",
              "    <tr>\n",
              "      <th>1</th>\n",
              "      <td>vhigh</td>\n",
              "      <td>vhigh</td>\n",
              "      <td>2</td>\n",
              "      <td>2</td>\n",
              "      <td>small</td>\n",
              "      <td>med</td>\n",
              "      <td>unacc</td>\n",
              "    </tr>\n",
              "    <tr>\n",
              "      <th>2</th>\n",
              "      <td>vhigh</td>\n",
              "      <td>vhigh</td>\n",
              "      <td>2</td>\n",
              "      <td>2</td>\n",
              "      <td>small</td>\n",
              "      <td>high</td>\n",
              "      <td>unacc</td>\n",
              "    </tr>\n",
              "    <tr>\n",
              "      <th>3</th>\n",
              "      <td>vhigh</td>\n",
              "      <td>vhigh</td>\n",
              "      <td>2</td>\n",
              "      <td>2</td>\n",
              "      <td>med</td>\n",
              "      <td>low</td>\n",
              "      <td>unacc</td>\n",
              "    </tr>\n",
              "    <tr>\n",
              "      <th>4</th>\n",
              "      <td>vhigh</td>\n",
              "      <td>vhigh</td>\n",
              "      <td>2</td>\n",
              "      <td>2</td>\n",
              "      <td>med</td>\n",
              "      <td>med</td>\n",
              "      <td>unacc</td>\n",
              "    </tr>\n",
              "  </tbody>\n",
              "</table>\n",
              "</div>"
            ],
            "text/plain": [
              "   price  maint doors persons lug_capacity safety output\n",
              "0  vhigh  vhigh     2       2        small    low  unacc\n",
              "1  vhigh  vhigh     2       2        small    med  unacc\n",
              "2  vhigh  vhigh     2       2        small   high  unacc\n",
              "3  vhigh  vhigh     2       2          med    low  unacc\n",
              "4  vhigh  vhigh     2       2          med    med  unacc"
            ]
          },
          "metadata": {
            "tags": []
          },
          "execution_count": 6
        }
      ]
    },
    {
      "cell_type": "code",
      "metadata": {
        "id": "7onPCisuMEYT",
        "outputId": "a84884d3-1a5c-413b-bce7-06f68b5436f7",
        "colab": {
          "base_uri": "https://localhost:8080/",
          "height": 375
        }
      },
      "source": [
        "plot_size = plt.rcParams['figure.figsize']\n",
        "plot_size [0] = 8\n",
        "plot_size [1] = 6\n",
        "plt.rcParams['figure.figsize'] = plot_size\n",
        "cars.output.value_counts().plot(kind='pie', autopct='%0.05f%%', colors=['lightblue', 'lightgreen', 'orange', 'pink'], explode=(0.05, 0.05, 0.05, 0.05))"
      ],
      "execution_count": 13,
      "outputs": [
        {
          "output_type": "execute_result",
          "data": {
            "text/plain": [
              "<matplotlib.axes._subplots.AxesSubplot at 0x7f7b88fa8990>"
            ]
          },
          "metadata": {
            "tags": []
          },
          "execution_count": 13
        },
        {
          "output_type": "display_data",
          "data": {
            "image/png": "[encoded data removed]",
            "text/plain": [
              "<Figure size 576x432 with 1 Axes>"
            ]
          },
          "metadata": {
            "tags": []
          }
        }
      ]
    },
    {
      "cell_type": "code",
      "metadata": {
        "id": "zGSI8tDBQI3X"
      },
      "source": [
        "price = pd.get_dummies(cars.price, prefix='price')\n",
        "maint = pd.get_dummies(cars.maint, prefix='maint')\n",
        "\n",
        "doors = pd.get_dummies(cars.doors, prefix='doors')\n",
        "persons = pd.get_dummies(cars.persons, prefix='persons')\n",
        "\n",
        "lug_capacity = pd.get_dummies(cars.lug_capacity, prefix='lug_capacity')\n",
        "safety = pd.get_dummies(cars.safety, prefix='safety')\n",
        "\n",
        "labels = pd.get_dummies(cars.output, prefix='condition')\n",
        "\n",
        "X = pd.concat([price, maint, doors, persons, lug_capacity, safety], axis=1)\n",
        "y = labels.values"
      ],
      "execution_count": 16,
      "outputs": []
    },
    {
      "cell_type": "code",
      "metadata": {
        "id": "mP2BuUeZSi8_",
        "outputId": "54f637eb-b965-4b8a-ca9a-9b4f26be1e2a",
        "colab": {
          "base_uri": "https://localhost:8080/",
          "height": 204
        }
      },
      "source": [
        "cars.head()"
      ],
      "execution_count": 17,
      "outputs": [
        {
          "output_type": "execute_result",
          "data": {
            "text/html": [
              "<div>\n",
              "<style scoped>\n",
              "    .dataframe tbody tr th:only-of-type {\n",
              "        vertical-align: middle;\n",
              "    }\n",
              "\n",
              "    .dataframe tbody tr th {\n",
              "        vertical-align: top;\n",
              "    }\n",
              "\n",
              "    .dataframe thead th {\n",
              "        text-align: right;\n",
              "    }\n",
              "</style>\n",
              "<table border=\"1\" class=\"dataframe\">\n",
              "  <thead>\n",
              "    <tr style=\"text-align: right;\">\n",
              "      <th></th>\n",
              "      <th>price</th>\n",
              "      <th>maint</th>\n",
              "      <th>doors</th>\n",
              "      <th>persons</th>\n",
              "      <th>lug_capacity</th>\n",
              "      <th>safety</th>\n",
              "      <th>output</th>\n",
              "    </tr>\n",
              "  </thead>\n",
              "  <tbody>\n",
              "    <tr>\n",
              "      <th>0</th>\n",
              "      <td>vhigh</td>\n",
              "      <td>vhigh</td>\n",
              "      <td>2</td>\n",
              "      <td>2</td>\n",
              "      <td>small</td>\n",
              "      <td>low</td>\n",
              "      <td>unacc</td>\n",
              "    </tr>\n",
              "    <tr>\n",
              "      <th>1</th>\n",
              "      <td>vhigh</td>\n",
              "      <td>vhigh</td>\n",
              "      <td>2</td>\n",
              "      <td>2</td>\n",
              "      <td>small</td>\n",
              "      <td>med</td>\n",
              "      <td>unacc</td>\n",
              "    </tr>\n",
              "    <tr>\n",
              "      <th>2</th>\n",
              "      <td>vhigh</td>\n",
              "      <td>vhigh</td>\n",
              "      <td>2</td>\n",
              "      <td>2</td>\n",
              "      <td>small</td>\n",
              "      <td>high</td>\n",
              "      <td>unacc</td>\n",
              "    </tr>\n",
              "    <tr>\n",
              "      <th>3</th>\n",
              "      <td>vhigh</td>\n",
              "      <td>vhigh</td>\n",
              "      <td>2</td>\n",
              "      <td>2</td>\n",
              "      <td>med</td>\n",
              "      <td>low</td>\n",
              "      <td>unacc</td>\n",
              "    </tr>\n",
              "    <tr>\n",
              "      <th>4</th>\n",
              "      <td>vhigh</td>\n",
              "      <td>vhigh</td>\n",
              "      <td>2</td>\n",
              "      <td>2</td>\n",
              "      <td>med</td>\n",
              "      <td>med</td>\n",
              "      <td>unacc</td>\n",
              "    </tr>\n",
              "  </tbody>\n",
              "</table>\n",
              "</div>"
            ],
            "text/plain": [
              "   price  maint doors persons lug_capacity safety output\n",
              "0  vhigh  vhigh     2       2        small    low  unacc\n",
              "1  vhigh  vhigh     2       2        small    med  unacc\n",
              "2  vhigh  vhigh     2       2        small   high  unacc\n",
              "3  vhigh  vhigh     2       2          med    low  unacc\n",
              "4  vhigh  vhigh     2       2          med    med  unacc"
            ]
          },
          "metadata": {
            "tags": []
          },
          "execution_count": 17
        }
      ]
    },
    {
      "cell_type": "code",
      "metadata": {
        "id": "7ba5VXAtSqM7",
        "outputId": "1d38bfae-8c1e-48cf-b4cc-fdcf41b093df",
        "colab": {
          "base_uri": "https://localhost:8080/",
          "height": 439
        }
      },
      "source": [
        "X"
      ],
      "execution_count": 18,
      "outputs": [
        {
          "output_type": "execute_result",
          "data": {
            "text/html": [
              "<div>\n",
              "<style scoped>\n",
              "    .dataframe tbody tr th:only-of-type {\n",
              "        vertical-align: middle;\n",
              "    }\n",
              "\n",
              "    .dataframe tbody tr th {\n",
              "        vertical-align: top;\n",
              "    }\n",
              "\n",
              "    .dataframe thead th {\n",
              "        text-align: right;\n",
              "    }\n",
              "</style>\n",
              "<table border=\"1\" class=\"dataframe\">\n",
              "  <thead>\n",
              "    <tr style=\"text-align: right;\">\n",
              "      <th></th>\n",
              "      <th>price_high</th>\n",
              "      <th>price_low</th>\n",
              "      <th>price_med</th>\n",
              "      <th>price_vhigh</th>\n",
              "      <th>maint_high</th>\n",
              "      <th>maint_low</th>\n",
              "      <th>maint_med</th>\n",
              "      <th>maint_vhigh</th>\n",
              "      <th>doors_2</th>\n",
              "      <th>doors_3</th>\n",
              "      <th>doors_4</th>\n",
              "      <th>doors_5more</th>\n",
              "      <th>persons_2</th>\n",
              "      <th>persons_4</th>\n",
              "      <th>persons_more</th>\n",
              "      <th>lug_capacity_big</th>\n",
              "      <th>lug_capacity_med</th>\n",
              "      <th>lug_capacity_small</th>\n",
              "      <th>safety_high</th>\n",
              "      <th>safety_low</th>\n",
              "      <th>safety_med</th>\n",
              "    </tr>\n",
              "  </thead>\n",
              "  <tbody>\n",
              "    <tr>\n",
              "      <th>0</th>\n",
              "      <td>0</td>\n",
              "      <td>0</td>\n",
              "      <td>0</td>\n",
              "      <td>1</td>\n",
              "      <td>0</td>\n",
              "      <td>0</td>\n",
              "      <td>0</td>\n",
              "      <td>1</td>\n",
              "      <td>1</td>\n",
              "      <td>0</td>\n",
              "      <td>0</td>\n",
              "      <td>0</td>\n",
              "      <td>1</td>\n",
              "      <td>0</td>\n",
              "      <td>0</td>\n",
              "      <td>0</td>\n",
              "      <td>0</td>\n",
              "      <td>1</td>\n",
              "      <td>0</td>\n",
              "      <td>1</td>\n",
              "      <td>0</td>\n",
              "    </tr>\n",
              "    <tr>\n",
              "      <th>1</th>\n",
              "      <td>0</td>\n",
              "      <td>0</td>\n",
              "      <td>0</td>\n",
              "      <td>1</td>\n",
              "      <td>0</td>\n",
              "      <td>0</td>\n",
              "      <td>0</td>\n",
              "      <td>1</td>\n",
              "      <td>1</td>\n",
              "      <td>0</td>\n",
              "      <td>0</td>\n",
              "      <td>0</td>\n",
              "      <td>1</td>\n",
              "      <td>0</td>\n",
              "      <td>0</td>\n",
              "      <td>0</td>\n",
              "      <td>0</td>\n",
              "      <td>1</td>\n",
              "      <td>0</td>\n",
              "      <td>0</td>\n",
              "      <td>1</td>\n",
              "    </tr>\n",
              "    <tr>\n",
              "      <th>2</th>\n",
              "      <td>0</td>\n",
              "      <td>0</td>\n",
              "      <td>0</td>\n",
              "      <td>1</td>\n",
              "      <td>0</td>\n",
              "      <td>0</td>\n",
              "      <td>0</td>\n",
              "      <td>1</td>\n",
              "      <td>1</td>\n",
              "      <td>0</td>\n",
              "      <td>0</td>\n",
              "      <td>0</td>\n",
              "      <td>1</td>\n",
              "      <td>0</td>\n",
              "      <td>0</td>\n",
              "      <td>0</td>\n",
              "      <td>0</td>\n",
              "      <td>1</td>\n",
              "      <td>1</td>\n",
              "      <td>0</td>\n",
              "      <td>0</td>\n",
              "    </tr>\n",
              "    <tr>\n",
              "      <th>3</th>\n",
              "      <td>0</td>\n",
              "      <td>0</td>\n",
              "      <td>0</td>\n",
              "      <td>1</td>\n",
              "      <td>0</td>\n",
              "      <td>0</td>\n",
              "      <td>0</td>\n",
              "      <td>1</td>\n",
              "      <td>1</td>\n",
              "      <td>0</td>\n",
              "      <td>0</td>\n",
              "      <td>0</td>\n",
              "      <td>1</td>\n",
              "      <td>0</td>\n",
              "      <td>0</td>\n",
              "      <td>0</td>\n",
              "      <td>1</td>\n",
              "      <td>0</td>\n",
              "      <td>0</td>\n",
              "      <td>1</td>\n",
              "      <td>0</td>\n",
              "    </tr>\n",
              "    <tr>\n",
              "      <th>4</th>\n",
              "      <td>0</td>\n",
              "      <td>0</td>\n",
              "      <td>0</td>\n",
              "      <td>1</td>\n",
              "      <td>0</td>\n",
              "      <td>0</td>\n",
              "      <td>0</td>\n",
              "      <td>1</td>\n",
              "      <td>1</td>\n",
              "      <td>0</td>\n",
              "      <td>0</td>\n",
              "      <td>0</td>\n",
              "      <td>1</td>\n",
              "      <td>0</td>\n",
              "      <td>0</td>\n",
              "      <td>0</td>\n",
              "      <td>1</td>\n",
              "      <td>0</td>\n",
              "      <td>0</td>\n",
              "      <td>0</td>\n",
              "      <td>1</td>\n",
              "    </tr>\n",
              "    <tr>\n",
              "      <th>...</th>\n",
              "      <td>...</td>\n",
              "      <td>...</td>\n",
              "      <td>...</td>\n",
              "      <td>...</td>\n",
              "      <td>...</td>\n",
              "      <td>...</td>\n",
              "      <td>...</td>\n",
              "      <td>...</td>\n",
              "      <td>...</td>\n",
              "      <td>...</td>\n",
              "      <td>...</td>\n",
              "      <td>...</td>\n",
              "      <td>...</td>\n",
              "      <td>...</td>\n",
              "      <td>...</td>\n",
              "      <td>...</td>\n",
              "      <td>...</td>\n",
              "      <td>...</td>\n",
              "      <td>...</td>\n",
              "      <td>...</td>\n",
              "      <td>...</td>\n",
              "    </tr>\n",
              "    <tr>\n",
              "      <th>1723</th>\n",
              "      <td>0</td>\n",
              "      <td>1</td>\n",
              "      <td>0</td>\n",
              "      <td>0</td>\n",
              "      <td>0</td>\n",
              "      <td>1</td>\n",
              "      <td>0</td>\n",
              "      <td>0</td>\n",
              "      <td>0</td>\n",
              "      <td>0</td>\n",
              "      <td>0</td>\n",
              "      <td>1</td>\n",
              "      <td>0</td>\n",
              "      <td>0</td>\n",
              "      <td>1</td>\n",
              "      <td>0</td>\n",
              "      <td>1</td>\n",
              "      <td>0</td>\n",
              "      <td>0</td>\n",
              "      <td>0</td>\n",
              "      <td>1</td>\n",
              "    </tr>\n",
              "    <tr>\n",
              "      <th>1724</th>\n",
              "      <td>0</td>\n",
              "      <td>1</td>\n",
              "      <td>0</td>\n",
              "      <td>0</td>\n",
              "      <td>0</td>\n",
              "      <td>1</td>\n",
              "      <td>0</td>\n",
              "      <td>0</td>\n",
              "      <td>0</td>\n",
              "      <td>0</td>\n",
              "      <td>0</td>\n",
              "      <td>1</td>\n",
              "      <td>0</td>\n",
              "      <td>0</td>\n",
              "      <td>1</td>\n",
              "      <td>0</td>\n",
              "      <td>1</td>\n",
              "      <td>0</td>\n",
              "      <td>1</td>\n",
              "      <td>0</td>\n",
              "      <td>0</td>\n",
              "    </tr>\n",
              "    <tr>\n",
              "      <th>1725</th>\n",
              "      <td>0</td>\n",
              "      <td>1</td>\n",
              "      <td>0</td>\n",
              "      <td>0</td>\n",
              "      <td>0</td>\n",
              "      <td>1</td>\n",
              "      <td>0</td>\n",
              "      <td>0</td>\n",
              "      <td>0</td>\n",
              "      <td>0</td>\n",
              "      <td>0</td>\n",
              "      <td>1</td>\n",
              "      <td>0</td>\n",
              "      <td>0</td>\n",
              "      <td>1</td>\n",
              "      <td>1</td>\n",
              "      <td>0</td>\n",
              "      <td>0</td>\n",
              "      <td>0</td>\n",
              "      <td>1</td>\n",
              "      <td>0</td>\n",
              "    </tr>\n",
              "    <tr>\n",
              "      <th>1726</th>\n",
              "      <td>0</td>\n",
              "      <td>1</td>\n",
              "      <td>0</td>\n",
              "      <td>0</td>\n",
              "      <td>0</td>\n",
              "      <td>1</td>\n",
              "      <td>0</td>\n",
              "      <td>0</td>\n",
              "      <td>0</td>\n",
              "      <td>0</td>\n",
              "      <td>0</td>\n",
              "      <td>1</td>\n",
              "      <td>0</td>\n",
              "      <td>0</td>\n",
              "      <td>1</td>\n",
              "      <td>1</td>\n",
              "      <td>0</td>\n",
              "      <td>0</td>\n",
              "      <td>0</td>\n",
              "      <td>0</td>\n",
              "      <td>1</td>\n",
              "    </tr>\n",
              "    <tr>\n",
              "      <th>1727</th>\n",
              "      <td>0</td>\n",
              "      <td>1</td>\n",
              "      <td>0</td>\n",
              "      <td>0</td>\n",
              "      <td>0</td>\n",
              "      <td>1</td>\n",
              "      <td>0</td>\n",
              "      <td>0</td>\n",
              "      <td>0</td>\n",
              "      <td>0</td>\n",
              "      <td>0</td>\n",
              "      <td>1</td>\n",
              "      <td>0</td>\n",
              "      <td>0</td>\n",
              "      <td>1</td>\n",
              "      <td>1</td>\n",
              "      <td>0</td>\n",
              "      <td>0</td>\n",
              "      <td>1</td>\n",
              "      <td>0</td>\n",
              "      <td>0</td>\n",
              "    </tr>\n",
              "  </tbody>\n",
              "</table>\n",
              "<p>1728 rows × 21 columns</p>\n",
              "</div>"
            ],
            "text/plain": [
              "      price_high  price_low  price_med  ...  safety_high  safety_low  safety_med\n",
              "0              0          0          0  ...            0           1           0\n",
              "1              0          0          0  ...            0           0           1\n",
              "2              0          0          0  ...            1           0           0\n",
              "3              0          0          0  ...            0           1           0\n",
              "4              0          0          0  ...            0           0           1\n",
              "...          ...        ...        ...  ...          ...         ...         ...\n",
              "1723           0          1          0  ...            0           0           1\n",
              "1724           0          1          0  ...            1           0           0\n",
              "1725           0          1          0  ...            0           1           0\n",
              "1726           0          1          0  ...            0           0           1\n",
              "1727           0          1          0  ...            1           0           0\n",
              "\n",
              "[1728 rows x 21 columns]"
            ]
          },
          "metadata": {
            "tags": []
          },
          "execution_count": 18
        }
      ]
    },
    {
      "cell_type": "code",
      "metadata": {
        "id": "HL-zftPoTEFx"
      },
      "source": [
        "from sklearn.model_selection import train_test_split\n",
        "X_train, X_test, y_train, y_test = train_test_split(X, y, test_size=0.20, random_state=42)"
      ],
      "execution_count": 19,
      "outputs": []
    },
    {
      "cell_type": "code",
      "metadata": {
        "id": "F-4ekFEJUDmA",
        "outputId": "1c08ddb1-104b-4b8f-8804-3776c3141b7b",
        "colab": {
          "base_uri": "https://localhost:8080/"
        }
      },
      "source": [
        "from tensorflow.keras.layers import Input, Dense, Activation, Dropout\n",
        "from tensorflow.keras.models import Model\n",
        "input_layer = Input(shape=(X.shape[1],))\n",
        "dense_layer_1 = Dense(15, activation='relu')(input_layer)\n",
        "dense_layer_2 = Dense(10, activation='relu')(dense_layer_1)\n",
        "output = Dense(y.shape[1], activation='softmax')(dense_layer_2)\n",
        "\n",
        "model = Model(inputs=input_layer, outputs=output)\n",
        "\n",
        "model.compile(loss='categorical_crossentropy', optimizer='adam', metrics=['acc'])\n",
        "model.summary()"
      ],
      "execution_count": 21,
      "outputs": [
        {
          "output_type": "stream",
          "text": [
            "Model: \"model\"\n",
            "_________________________________________________________________\n",
            "Layer (type)                 Output Shape              Param #   \n",
            "=================================================================\n",
            "input_2 (InputLayer)         [(None, 21)]              0         \n",
            "_________________________________________________________________\n",
            "dense_3 (Dense)              (None, 15)                330       \n",
            "_________________________________________________________________\n",
            "dense_4 (Dense)              (None, 10)                160       \n",
            "_________________________________________________________________\n",
            "dense_5 (Dense)              (None, 4)                 44        \n",
            "=================================================================\n",
            "Total params: 534\n",
            "Trainable params: 534\n",
            "Non-trainable params: 0\n",
            "_________________________________________________________________\n"
          ],
          "name": "stdout"
        }
      ]
    },
    {
      "cell_type": "code",
      "metadata": {
        "id": "eumOtdqQV1g8",
        "outputId": "d231e5f3-caaa-4f94-e4fb-503e120e5993",
        "colab": {
          "base_uri": "https://localhost:8080/"
        }
      },
      "source": [
        "history = model.fit(X_train, y_train, batch_size=8, epochs=50, verbose=1, validation_split=0.2)"
      ],
      "execution_count": 22,
      "outputs": [
        {
          "output_type": "stream",
          "text": [
            "Epoch 1/50\n",
            "139/139 [==============================] - 1s 3ms/step - loss: 1.3037 - acc: 0.4217 - val_loss: 1.0019 - val_acc: 0.6498\n",
            "Epoch 2/50\n",
            "139/139 [==============================] - 0s 2ms/step - loss: 0.7772 - acc: 0.7195 - val_loss: 0.7900 - val_acc: 0.6462\n",
            "Epoch 3/50\n",
            "139/139 [==============================] - 0s 2ms/step - loss: 0.6087 - acc: 0.7457 - val_loss: 0.6680 - val_acc: 0.6643\n",
            "Epoch 4/50\n",
            "139/139 [==============================] - 0s 2ms/step - loss: 0.4787 - acc: 0.8027 - val_loss: 0.5351 - val_acc: 0.7906\n",
            "Epoch 5/50\n",
            "139/139 [==============================] - 0s 2ms/step - loss: 0.3793 - acc: 0.8643 - val_loss: 0.4557 - val_acc: 0.8231\n",
            "Epoch 6/50\n",
            "139/139 [==============================] - 0s 2ms/step - loss: 0.3238 - acc: 0.8851 - val_loss: 0.4077 - val_acc: 0.8159\n",
            "Epoch 7/50\n",
            "139/139 [==============================] - 0s 2ms/step - loss: 0.2899 - acc: 0.8869 - val_loss: 0.3674 - val_acc: 0.8303\n",
            "Epoch 8/50\n",
            "139/139 [==============================] - 0s 2ms/step - loss: 0.2594 - acc: 0.8950 - val_loss: 0.3421 - val_acc: 0.8412\n",
            "Epoch 9/50\n",
            "139/139 [==============================] - 0s 2ms/step - loss: 0.2360 - acc: 0.8977 - val_loss: 0.3051 - val_acc: 0.8628\n",
            "Epoch 10/50\n",
            "139/139 [==============================] - 0s 2ms/step - loss: 0.2137 - acc: 0.9068 - val_loss: 0.3027 - val_acc: 0.8520\n",
            "Epoch 11/50\n",
            "139/139 [==============================] - 0s 2ms/step - loss: 0.1961 - acc: 0.9131 - val_loss: 0.2912 - val_acc: 0.8628\n",
            "Epoch 12/50\n",
            "139/139 [==============================] - 0s 2ms/step - loss: 0.1838 - acc: 0.9231 - val_loss: 0.2627 - val_acc: 0.8809\n",
            "Epoch 13/50\n",
            "139/139 [==============================] - 0s 2ms/step - loss: 0.1702 - acc: 0.9267 - val_loss: 0.2492 - val_acc: 0.9025\n",
            "Epoch 14/50\n",
            "139/139 [==============================] - 0s 2ms/step - loss: 0.1605 - acc: 0.9339 - val_loss: 0.2438 - val_acc: 0.8881\n",
            "Epoch 15/50\n",
            "139/139 [==============================] - 0s 2ms/step - loss: 0.1529 - acc: 0.9348 - val_loss: 0.2306 - val_acc: 0.9242\n",
            "Epoch 16/50\n",
            "139/139 [==============================] - 0s 2ms/step - loss: 0.1447 - acc: 0.9466 - val_loss: 0.2249 - val_acc: 0.9134\n",
            "Epoch 17/50\n",
            "139/139 [==============================] - 0s 2ms/step - loss: 0.1380 - acc: 0.9557 - val_loss: 0.2213 - val_acc: 0.9206\n",
            "Epoch 18/50\n",
            "139/139 [==============================] - 0s 2ms/step - loss: 0.1309 - acc: 0.9566 - val_loss: 0.2093 - val_acc: 0.9134\n",
            "Epoch 19/50\n",
            "139/139 [==============================] - 0s 2ms/step - loss: 0.1211 - acc: 0.9629 - val_loss: 0.2117 - val_acc: 0.9170\n",
            "Epoch 20/50\n",
            "139/139 [==============================] - 0s 2ms/step - loss: 0.1179 - acc: 0.9620 - val_loss: 0.2007 - val_acc: 0.9206\n",
            "Epoch 21/50\n",
            "139/139 [==============================] - 0s 2ms/step - loss: 0.1126 - acc: 0.9638 - val_loss: 0.2065 - val_acc: 0.9170\n",
            "Epoch 22/50\n",
            "139/139 [==============================] - 0s 2ms/step - loss: 0.1039 - acc: 0.9683 - val_loss: 0.1913 - val_acc: 0.9206\n",
            "Epoch 23/50\n",
            "139/139 [==============================] - 0s 2ms/step - loss: 0.0981 - acc: 0.9692 - val_loss: 0.1836 - val_acc: 0.9242\n",
            "Epoch 24/50\n",
            "139/139 [==============================] - 0s 2ms/step - loss: 0.0930 - acc: 0.9729 - val_loss: 0.1832 - val_acc: 0.9350\n",
            "Epoch 25/50\n",
            "139/139 [==============================] - 0s 2ms/step - loss: 0.0872 - acc: 0.9774 - val_loss: 0.1718 - val_acc: 0.9386\n",
            "Epoch 26/50\n",
            "139/139 [==============================] - 0s 2ms/step - loss: 0.0827 - acc: 0.9801 - val_loss: 0.1645 - val_acc: 0.9350\n",
            "Epoch 27/50\n",
            "139/139 [==============================] - 0s 2ms/step - loss: 0.0772 - acc: 0.9819 - val_loss: 0.1676 - val_acc: 0.9386\n",
            "Epoch 28/50\n",
            "139/139 [==============================] - 0s 2ms/step - loss: 0.0745 - acc: 0.9801 - val_loss: 0.1747 - val_acc: 0.9278\n",
            "Epoch 29/50\n",
            "139/139 [==============================] - 0s 2ms/step - loss: 0.0695 - acc: 0.9765 - val_loss: 0.1478 - val_acc: 0.9458\n",
            "Epoch 30/50\n",
            "139/139 [==============================] - 0s 2ms/step - loss: 0.0663 - acc: 0.9828 - val_loss: 0.1423 - val_acc: 0.9495\n",
            "Epoch 31/50\n",
            "139/139 [==============================] - 0s 2ms/step - loss: 0.0660 - acc: 0.9837 - val_loss: 0.1476 - val_acc: 0.9458\n",
            "Epoch 32/50\n",
            "139/139 [==============================] - 0s 2ms/step - loss: 0.0595 - acc: 0.9855 - val_loss: 0.1354 - val_acc: 0.9531\n",
            "Epoch 33/50\n",
            "139/139 [==============================] - 0s 2ms/step - loss: 0.0576 - acc: 0.9846 - val_loss: 0.1409 - val_acc: 0.9458\n",
            "Epoch 34/50\n",
            "139/139 [==============================] - 0s 2ms/step - loss: 0.0532 - acc: 0.9882 - val_loss: 0.1343 - val_acc: 0.9458\n",
            "Epoch 35/50\n",
            "139/139 [==============================] - 0s 2ms/step - loss: 0.0508 - acc: 0.9882 - val_loss: 0.1406 - val_acc: 0.9350\n",
            "Epoch 36/50\n",
            "139/139 [==============================] - 0s 2ms/step - loss: 0.0469 - acc: 0.9900 - val_loss: 0.1422 - val_acc: 0.9314\n",
            "Epoch 37/50\n",
            "139/139 [==============================] - 0s 2ms/step - loss: 0.0452 - acc: 0.9919 - val_loss: 0.1185 - val_acc: 0.9531\n",
            "Epoch 38/50\n",
            "139/139 [==============================] - 0s 2ms/step - loss: 0.0421 - acc: 0.9937 - val_loss: 0.1144 - val_acc: 0.9567\n",
            "Epoch 39/50\n",
            "139/139 [==============================] - 0s 2ms/step - loss: 0.0405 - acc: 0.9910 - val_loss: 0.1095 - val_acc: 0.9531\n",
            "Epoch 40/50\n",
            "139/139 [==============================] - 0s 2ms/step - loss: 0.0372 - acc: 0.9946 - val_loss: 0.1071 - val_acc: 0.9531\n",
            "Epoch 41/50\n",
            "139/139 [==============================] - 0s 2ms/step - loss: 0.0351 - acc: 0.9937 - val_loss: 0.1006 - val_acc: 0.9567\n",
            "Epoch 42/50\n",
            "139/139 [==============================] - 0s 2ms/step - loss: 0.0329 - acc: 0.9964 - val_loss: 0.0983 - val_acc: 0.9567\n",
            "Epoch 43/50\n",
            "139/139 [==============================] - 0s 2ms/step - loss: 0.0307 - acc: 0.9964 - val_loss: 0.0992 - val_acc: 0.9567\n",
            "Epoch 44/50\n",
            "139/139 [==============================] - 0s 2ms/step - loss: 0.0280 - acc: 0.9982 - val_loss: 0.0983 - val_acc: 0.9567\n",
            "Epoch 45/50\n",
            "139/139 [==============================] - 0s 2ms/step - loss: 0.0262 - acc: 0.9964 - val_loss: 0.0895 - val_acc: 0.9639\n",
            "Epoch 46/50\n",
            "139/139 [==============================] - 0s 2ms/step - loss: 0.0243 - acc: 0.9973 - val_loss: 0.0792 - val_acc: 0.9856\n",
            "Epoch 47/50\n",
            "139/139 [==============================] - 0s 2ms/step - loss: 0.0226 - acc: 0.9973 - val_loss: 0.0935 - val_acc: 0.9531\n",
            "Epoch 48/50\n",
            "139/139 [==============================] - 0s 2ms/step - loss: 0.0211 - acc: 0.9991 - val_loss: 0.0879 - val_acc: 0.9639\n",
            "Epoch 49/50\n",
            "139/139 [==============================] - 0s 2ms/step - loss: 0.0195 - acc: 0.9982 - val_loss: 0.0727 - val_acc: 0.9856\n",
            "Epoch 50/50\n",
            "139/139 [==============================] - 0s 2ms/step - loss: 0.0190 - acc: 0.9982 - val_loss: 0.0691 - val_acc: 0.9819\n"
          ],
          "name": "stdout"
        }
      ]
    },
    {
      "cell_type": "code",
      "metadata": {
        "id": "se4A9gDMYGkL",
        "outputId": "55e57ff0-9f85-459a-9a4c-7f78359fdc59",
        "colab": {
          "base_uri": "https://localhost:8080/"
        }
      },
      "source": [
        "score=model.evaluate(X_test, y_test, verbose=1)\n",
        "print(\"Test Score:\", score[0])\n",
        "print(\"Test Accuracy:\", score[1])"
      ],
      "execution_count": 24,
      "outputs": [
        {
          "output_type": "stream",
          "text": [
            "11/11 [==============================] - 0s 1ms/step - loss: 0.0629 - acc: 0.9769\n",
            "Test Score: 0.0628521591424942\n",
            "Test Accuracy: 0.9768785834312439\n"
          ],
          "name": "stdout"
        }
      ]
    },
    {
      "cell_type": "code",
      "metadata": {
        "id": "P6Gk7_qhYUPF"
      },
      "source": [
        ""
      ],
      "execution_count": null,
      "outputs": []
    }
  ]
}